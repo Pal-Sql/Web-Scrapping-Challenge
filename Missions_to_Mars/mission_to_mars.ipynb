{
 "metadata": {
  "language_info": {
   "codemirror_mode": {
    "name": "ipython",
    "version": 3
   },
   "file_extension": ".py",
   "mimetype": "text/x-python",
   "name": "python",
   "nbconvert_exporter": "python",
   "pygments_lexer": "ipython3",
   "version": "3.8.5"
  },
  "orig_nbformat": 2,
  "kernelspec": {
   "name": "python3",
   "display_name": "Python 3.8.5 64-bit ('base': conda)"
  },
  "interpreter": {
   "hash": "bc23397080910adbc700e3b271aba193f4b39fcdf4a8b7bcb8c18cc9eba252fc"
  }
 },
 "nbformat": 4,
 "nbformat_minor": 2,
 "cells": [
  {
   "cell_type": "code",
   "execution_count": 67,
   "metadata": {},
   "outputs": [],
   "source": [
    "#import the dependencies\n",
    "import os\n",
    "import requests\n",
    "from bs4 import BeautifulSoup as bs\n",
    "import pandas as pd\n",
    "from splinter import Browser\n",
    "import time\n",
    "from webdriver_manager.chrome import ChromeDriverManager\n"
   ]
  },
  {
   "cell_type": "code",
   "execution_count": 68,
   "metadata": {},
   "outputs": [
    {
     "output_type": "stream",
     "name": "stderr",
     "text": [
      "\n",
      "\n",
      "====== WebDriver manager ======\n",
      "Current google-chrome version is 91.0.4472\n",
      "Get LATEST driver version for 91.0.4472\n",
      "Driver [C:\\Users\\pptak\\.wdm\\drivers\\chromedriver\\win32\\91.0.4472.101\\chromedriver.exe] found in cache\n"
     ]
    }
   ],
   "source": [
    "executable_path = {'executable_path': ChromeDriverManager().install()}\n",
    "browser = Browser('chrome', **executable_path, headless=False)"
   ]
  },
  {
   "cell_type": "code",
   "execution_count": 69,
   "metadata": {
    "tags": []
   },
   "outputs": [],
   "source": [
    "#Visit Nasa News url  using splinter module\n",
    "\n",
    "url = 'https://redplanetscience.com'\n",
    "browser.visit(url)\n",
    "time.sleep(1)"
   ]
  },
  {
   "cell_type": "code",
   "execution_count": 70,
   "metadata": {},
   "outputs": [],
   "source": [
    "#Open webpage using splinter\n",
    "image_url = 'https://spaceimages-mars.com/'\n",
    "browser.visit(url)\n"
   ]
  },
  {
   "cell_type": "code",
   "execution_count": 71,
   "metadata": {},
   "outputs": [],
   "source": [
    "#HTML object\n",
    "html = browser.html\n",
    "\n"
   ]
  },
  {
   "cell_type": "code",
   "execution_count": 72,
   "metadata": {},
   "outputs": [
    {
     "output_type": "execute_result",
     "data": {
      "text/plain": [
       "'News - Mars Exploration Program'"
      ]
     },
     "metadata": {},
     "execution_count": 72
    }
   ],
   "source": [
    "#Create a BeautifulSoup object\n",
    "soup = bs(html, 'html.parser')\n",
    "soup.title.text"
   ]
  },
  {
   "cell_type": "code",
   "execution_count": 73,
   "metadata": {},
   "outputs": [
    {
     "output_type": "stream",
     "name": "stdout",
     "text": [
      "June 13, 2021\nNASA's MAVEN Maps Winds in the Martian Upper Atmosphere that Mirror the Terrain Below and Gives Clues to Martian Climate\nResearchers have created the first map of wind circulation in the upper atmosphere of a planet besides Earth, using data from NASA’s MAVEN spacecraft that were collected during the last two years.\n"
     ]
    }
   ],
   "source": [
    "# Retrieve the latest news title and paragraph\n",
    "article = soup.find(\"div\", class_=\"list_text\")\n",
    "news_p = article.find(\"div\", class_=\"article_teaser_body\").text\n",
    "news_title = article.find(\"div\", class_=\"content_title\").text\n",
    "news_date = article.find(\"div\", class_=\"list_date\").text\n",
    "print(news_date)\n",
    "print(news_title)\n",
    "print(news_p)\n"
   ]
  },
  {
   "cell_type": "code",
   "execution_count": 59,
   "metadata": {},
   "outputs": [
    {
     "output_type": "stream",
     "name": "stdout",
     "text": [
      "<html class=\"\">\n <head>\n  <meta charset=\"utf-8\"/>\n  <meta content=\"width=device-width, initial-scale=1\" name=\"viewport\"/>\n  <link href=\"https://maxcdn.bootstrapcdn.com/bootstrap/4.0.0/css/bootstrap.min.css\" rel=\"stylesheet\"/>\n  <!-- <link rel=\"stylesheet\" type=\"text/css\" href=\"css/font.css\"> -->\n  <link href=\"css/app.css\" rel=\"stylesheet\" type=\"text/css\"/>\n  <link href=\"https://stackpath.bootstrapcdn.com/font-awesome/4.7.0/css/font-awesome.min.css\" rel=\"stylesheet\" type=\"text/css\"/>\n  <title>\n   Space Image\n  </title>\n  <style type=\"text/css\">\n   .fancybox-margin{margin-right:17px;}\n  </style>\n </head>\n <body>\n  <div class=\"header\">\n   <nav class=\"navbar navbar-expand-lg\">\n    <a class=\"navbar-brand\" href=\"#\">\n     <img id=\"logo\" src=\"image/nasa.png\"/>\n     <span class=\"logo\">\n      Jet Propulsion Laboratory\n     </span>\n     <span class=\"logo1\">\n      California Institute of Technology\n     </span>\n    </a>\n    <button aria-controls=\"navbarNav\" aria-expanded=\"false\" aria-label=\"Toggle navigation\" class=\"navbar-toggler\" data-target=\"#navbarNav\" data-toggle=\"collapse\" type=\"button\">\n     <span class=\"navbar-toggler-icon\">\n     </span>\n    </button>\n    <div class=\"collapse navbar-collapse justify-content-end\" id=\"navbarNav\">\n     <ul class=\"navbar-nav\">\n      <li class=\"nav-item active\">\n       <a class=\"nav-link\" href=\"#\">\n        <i aria-hidden=\"true\" class=\"fa fa-bars\">\n        </i>\n        MENU\n        <i aria-hidden=\"true\" class=\"fa fa-search\">\n        </i>\n       </a>\n      </li>\n     </ul>\n    </div>\n   </nav>\n   <div class=\"floating_text_area\">\n    <h2 class=\"brand_title\">\n     FEATURED IMAGE\n    </h2>\n    <h1 class=\"media_feature_title\">\n     Dusty Space Cloud\n    </h1>\n    <br/>\n    <a class=\"showimg fancybox-thumbs\" href=\"image/featured/mars2.jpg\" target=\"_blank\">\n     <button class=\"btn btn-outline-light\">\n      FULL IMAGE\n     </button>\n    </a>\n   </div>\n   <img class=\"headerimage fade-in\" src=\"image/featured/mars2.jpg\"/>\n  </div>\n  <div class=\"search sticky\">\n   <div class=\"col-md-12\">\n    <div class=\"row\">\n     <div class=\"col-md-6\">\n      <input name=\"Search\" placeholder=\"Search\" type=\"text\"/>\n     </div>\n     <div class=\"col-md-6\">\n      <select aria-label=\"Default select example\" class=\"form-select\" id=\"options\">\n       <option onchange=\"0\" selected=\"\">\n        Mars\n       </option>\n       <!-- <option data-filter=\"sun\" class=\"button\">Mars</option> -->\n       <option class=\"button\" data-filter=\"Sun\">\n        Sun\n       </option>\n       <option class=\"button\" data-filter=\"earth\">\n        Earth\n       </option>\n       <option class=\"button\" data-filter=\"ida\">\n        Ida\n       </option>\n       <option class=\"button\" data-filter=\"jupiter\">\n        Jupiter\n       </option>\n       <option class=\"button\" data-filter=\"venus\">\n        Venus\n       </option>\n      </select>\n     </div>\n    </div>\n   </div>\n  </div>\n  <div class=\"container mt-5\">\n   <div class=\"col-md-12\">\n    <div class=\"row\">\n     <div class=\"col-md-6\">\n      <h1>\n       Images\n      </h1>\n     </div>\n     <div class=\"col-md-6\" id=\"icon\">\n      <div class=\"icon2\">\n      </div>\n      <div class=\"icon1\">\n      </div>\n     </div>\n    </div>\n   </div>\n   <!-- first div -->\n   <div class=\"div1\" id=\"filter\">\n    <div class=\"thmbgroup\">\n     <a class=\"fancybox-thumbs\" data-fancybox-group=\"thumb\" href=\"image/mars/Icaria Fossae7.jpg\">\n      <div class=\"thmb\">\n       <img alt=\"\" class=\"thumbimg\" src=\"image/mars/Icaria Fossae7.jpg\"/>\n       <p class=\"thumbcontent\">\n        January 1, 2020\n        <br/>\n        Icaria Fossae7\n       </p>\n      </div>\n     </a>\n     <a class=\"fancybox-thumbs\" data-fancybox-group=\"thumb\" href=\"image/mars/Proctor Crater Dunes 7.jpg\">\n      <div class=\"thmb\">\n       <img alt=\"\" class=\"thumbimg\" src=\"image/mars/Proctor Crater Dunes 7.jpg\"/>\n       <p class=\"thumbcontent\">\n        December 31, 2020\n        <br/>\n        Proctor Crater Dunes\n       </p>\n      </div>\n     </a>\n     <a class=\"fancybox-thumbs\" data-fancybox-group=\"thumb\" href=\"image/mars/Icaria Fossae7.jpg\">\n      <div class=\"thmb\">\n       <img alt=\"\" class=\"thumbimg\" src=\"image/mars/Icaria Fossae7.jpg\"/>\n       <p class=\"thumbcontent\">\n        December 31, 2020\n        <br/>\n        Icaria Fossae\n       </p>\n      </div>\n     </a>\n     <a class=\"fancybox-thumbs\" data-fancybox-group=\"thumb\" href=\"image/mars/Proctor Crater Dunes 7.jpg\">\n      <div class=\"thmb\">\n       <img alt=\"\" class=\"thumbimg\" src=\"image/mars/Proctor Crater Dunes 7.jpg\"/>\n       <p class=\"thumbcontent\">\n        December 29, 2020\n        <br/>\n        Proctor Crater Dunes\n       </p>\n      </div>\n     </a>\n     <a class=\"fancybox-thumbs\" data-fancybox-group=\"thumb\" href=\"image/mars/Proctor Crater Dunes 7.jpg\">\n      <div class=\"thmb\">\n       <img alt=\"\" class=\"thumbimg\" src=\"image/mars/Proctor Crater Dunes 7.jpg\"/>\n       <p class=\"thumbcontent\">\n        December 28, 2020\n        <br/>\n        roctor Crater Dunes\n       </p>\n      </div>\n     </a>\n     <a class=\"fancybox-thumbs\" data-fancybox-group=\"thumb\" href=\"image/mars/Icaria Fossae7.jpg\">\n      <div class=\"thmb\">\n       <img alt=\"\" class=\"thumbimg\" src=\"image/mars/Icaria Fossae7.jpg\"/>\n       <p class=\"thumbcontent\">\n        December 22, 2020\n        <br/>\n        Icaria Fossae\n       </p>\n      </div>\n     </a>\n     <a class=\"fancybox-thumbs\" data-fancybox-group=\"thumb\" href=\"image/mars/Icaria Fossae.jpg\">\n      <div class=\"thmb\">\n       <img alt=\"\" class=\"thumbimg\" src=\"image/mars/Icaria Fossae.jpg\"/>\n       <p class=\"thumbcontent\">\n        December 21, 2020\n        <br/>\n        Icaria Fossae\n       </p>\n      </div>\n     </a>\n     <a class=\"fancybox-thumbs\" data-fancybox-group=\"thumb\" href=\"image/mars/Ariadnes Colles4.jpg\">\n      <div class=\"thmb\">\n       <img alt=\"\" class=\"thumbimg\" src=\"image/mars/Ariadnes Colles4.jpg\"/>\n       <p class=\"thumbcontent\">\n        December 18, 2020\n        <br/>\n        Ariadnes Colles\n       </p>\n      </div>\n     </a>\n     <a class=\"fancybox-thumbs\" data-fancybox-group=\"thumb\" href=\"image/mars/Niger Vallis.jpg\">\n      <div class=\"thmb\">\n       <img alt=\"\" class=\"thumbimg\" src=\"image/mars/Niger Vallis.jpg\"/>\n       <p class=\"thumbcontent\">\n        December 17, 2020\n        <br/>\n        Niger Vallis\n       </p>\n      </div>\n     </a>\n     <a class=\"fancybox-thumbs\" data-fancybox-group=\"thumb\" href=\"image/mars/Proctor Crater Dunes.jpg\">\n      <div class=\"thmb\">\n       <img alt=\"\" class=\"thumbimg\" src=\"image/mars/Proctor Crater Dunes.jpg\"/>\n       <p class=\"thumbcontent\">\n        December 16, 2020\n        <br/>\n        Proctor Crater Dunes\n       </p>\n      </div>\n     </a>\n     <a class=\"fancybox-thumbs\" data-fancybox-group=\"thumb\" href=\"image/mars/Niger Vallis.jpg\">\n      <div class=\"thmb\">\n       <img alt=\"\" class=\"thumbimg\" src=\"image/mars/Niger Vallis.jpg\"/>\n       <p class=\"thumbcontent\">\n        December 15, 2020\n        <br/>\n        Niger Vallis\n       </p>\n      </div>\n     </a>\n     <a class=\"fancybox-thumbs\" data-fancybox-group=\"thumb\" href=\"image/mars/Daedalia Planum.jpg\">\n      <div class=\"thmb\">\n       <img alt=\"\" class=\"thumbimg\" src=\"image/mars/Daedalia Planum.jpg\"/>\n       <p class=\"thumbcontent\">\n        December 11, 2020\n        <br/>\n        Daedalia Planum\n       </p>\n      </div>\n     </a>\n     <a class=\"fancybox-thumbs\" data-fancybox-group=\"thumb\" href=\"image/mars/Sirenum Fossae.jpg\">\n      <div class=\"thmb\">\n       <img alt=\"\" class=\"thumbimg\" src=\"image/mars/Sirenum Fossae.jpg\"/>\n       <p class=\"thumbcontent\">\n        November,11, 2020\n        <br/>\n        Sirenum Fossae\n       </p>\n      </div>\n     </a>\n     <a class=\"fancybox-thumbs\" data-fancybox-group=\"thumb\" href=\"image/mars/Ariadnes Colles4.jpg\">\n      <div class=\"thmb\">\n       <img alt=\"\" class=\"thumbimg\" src=\"image/mars/Ariadnes Colles4.jpg\"/>\n       <p class=\"thumbcontent\">\n        November,13, 2020\n        <br/>\n        Ariadnes Colles\n       </p>\n      </div>\n     </a>\n     <a class=\"fancybox-thumbs\" data-fancybox-group=\"thumb\" href=\"image/mars/South Polar Cap.jpg\">\n      <div class=\"thmb\">\n       <img alt=\"\" class=\"thumbimg\" src=\"image/mars/South Polar Cap.jpg\"/>\n       <p class=\"thumbcontent\">\n        November,14, 2020\n        <br/>\n        South Polar Cap\n       </p>\n      </div>\n     </a>\n     <a class=\"fancybox-thumbs\" data-fancybox-group=\"thumb\" href=\"image/mars/Daedalia Planum.jpg\">\n      <div class=\"thmb\">\n       <img alt=\"\" class=\"thumbimg\" src=\"image/mars/Daedalia Planum.jpg\"/>\n       <p class=\"thumbcontent\">\n        November,17, 2020\n        <br/>\n        Daedalia Planum\n       </p>\n      </div>\n     </a>\n     <a class=\"fancybox-thumbs\" data-fancybox-group=\"thumb\" href=\"image/mars/Ariadnes Colles3.jpg\">\n      <div class=\"thmb\">\n       <img alt=\"\" class=\"thumbimg\" src=\"image/mars/Ariadnes Colles3.jpg\"/>\n       <p class=\"thumbcontent\">\n        November,11, 2020\n        <br/>\n        Ariadnes Colles\n       </p>\n      </div>\n     </a>\n     <a class=\"fancybox-thumbs\" data-fancybox-group=\"thumb\" href=\"image/mars/Atlantis Chaos.jpg\">\n      <div class=\"thmb\">\n       <img alt=\"\" class=\"thumbimg\" src=\"image/mars/Atlantis Chaos.jpg\"/>\n       <p class=\"thumbcontent\">\n        November,09, 2020\n        <br/>\n        Atlantis Chaos\n       </p>\n      </div>\n     </a>\n     <a class=\"fancybox-thumbs\" data-fancybox-group=\"thumb\" href=\"image/mars/Daedalia Planum.jpg\">\n      <div class=\"thmb\">\n       <img alt=\"\" class=\"thumbimg\" src=\"image/mars/Daedalia Planum.jpg\"/>\n       <p class=\"thumbcontent\">\n        January 1, 2020\n        <br/>\n        Daedalia Planum\n       </p>\n      </div>\n     </a>\n     <a class=\"fancybox-thumbs\" data-fancybox-group=\"thumb\" href=\"image/mars/Icaria Fossae.jpg\">\n      <div class=\"thmb\">\n       <img alt=\"\" class=\"thumbimg\" src=\"image/mars/Icaria Fossae.jpg\"/>\n       <p class=\"thumbcontent\">\n        January 1, 2020\n        <br/>\n        Icaria Fossae\n       </p>\n      </div>\n     </a>\n     <a class=\"fancybox-thumbs\" data-fancybox-group=\"thumb\" href=\"image/mars/Niger Vallis.jpg\">\n      <div class=\"thmb\">\n       <img alt=\"\" class=\"thumbimg\" src=\"image/mars/Niger Vallis.jpg\"/>\n       <p class=\"thumbcontent\">\n        January 1, 2020\n        <br/>\n        Niger Vallis\n       </p>\n      </div>\n     </a>\n     <a class=\"fancybox-thumbs\" data-fancybox-group=\"thumb\" href=\"image/mars/Proctor Crater Dunes.jpg\">\n      <div class=\"thmb\">\n       <img alt=\"\" class=\"thumbimg\" src=\"image/mars/Proctor Crater Dunes.jpg\"/>\n       <p class=\"thumbcontent\">\n        January 1, 2020\n        <br/>\n        Proctor Crater Dunes\n       </p>\n      </div>\n     </a>\n     <a class=\"fancybox-thumbs\" data-fancybox-group=\"thumb\" href=\"image/mars/Reull Vallis.jpg\">\n      <div class=\"thmb\">\n       <img alt=\"\" class=\"thumbimg\" src=\"image/mars/Reull Vallis.jpg\"/>\n       <p class=\"thumbcontent\">\n        January 1, 2020\n        <br/>\n        Reull Vallis\n       </p>\n      </div>\n     </a>\n     <a class=\"fancybox-thumbs\" data-fancybox-group=\"thumb\" href=\"image/mars/Ariadnes Colles3.jpg\">\n      <div class=\"thmb\">\n       <img alt=\"\" class=\"thumbimg\" src=\"image/mars/Ariadnes Colles3.jpg\"/>\n       <p class=\"thumbcontent\">\n        January 1, 2020\n        <br/>\n        Ariadnes Colles\n       </p>\n      </div>\n     </a>\n     <a class=\"fancybox-thumbs\" data-fancybox-group=\"thumb\" href=\"image/mars/Sirenum Fossae.jpg\">\n      <div class=\"thmb\">\n       <img alt=\"\" class=\"thumbimg\" src=\"image/mars/Sirenum Fossae.jpg\"/>\n       <p class=\"thumbcontent\">\n        January 1, 2020\n        <br/>\n        Sirenum Fossae\n       </p>\n      </div>\n     </a>\n     <a class=\"fancybox-thumbs\" data-fancybox-group=\"thumb\" href=\"image/mars/South Polar Cap.jpg\">\n      <div class=\"thmb\">\n       <img alt=\"\" class=\"thumbimg\" src=\"image/mars/South Polar Cap.jpg\"/>\n       <p class=\"thumbcontent\">\n        January 1, 2020\n        <br/>\n        South Polar Cap\n       </p>\n      </div>\n     </a>\n     <a class=\"fancybox-thumbs\" data-fancybox-group=\"thumb\" href=\"image/mars/Niger Vallis.jpg\">\n      <div class=\"thmb\">\n       <img alt=\"\" class=\"thumbimg\" src=\"image/mars/Niger Vallis.jpg\"/>\n       <p class=\"thumbcontent\">\n        January 1, 2020\n        <br/>\n        Niger Vallis\n       </p>\n      </div>\n     </a>\n     <a class=\"fancybox-thumbs\" data-fancybox-group=\"thumb\" href=\"image/mars/Daedalia Planum.jpg\">\n      <div class=\"thmb\">\n       <img alt=\"\" class=\"thumbimg\" src=\"image/mars/Daedalia Planum.jpg\"/>\n       <p class=\"thumbcontent\">\n        January 1, 2020\n        <br/>\n        Daedalia Planum\n       </p>\n      </div>\n     </a>\n     <a class=\"fancybox-thumbs\" data-fancybox-group=\"thumb\" href=\"image/mars/Icaria Fossae.jpg\">\n      <div class=\"thmb\">\n       <img alt=\"\" class=\"thumbimg\" src=\"image/mars/Icaria Fossae.jpg\"/>\n       <p class=\"thumbcontent\">\n        January 1, 2020\n        <br/>\n        Icaria Fossae\n       </p>\n      </div>\n     </a>\n     <a class=\"fancybox-thumbs\" data-fancybox-group=\"thumb\" href=\"image/mars/Ariadnes Colles4.jpg\">\n      <div class=\"thmb\">\n       <img alt=\"\" class=\"thumbimg\" src=\"image/mars/Ariadnes Colles4.jpg\"/>\n       <p class=\"thumbcontent\">\n        January 1, 2020\n        <br/>\n        Ariadnes Colles\n       </p>\n      </div>\n     </a>\n     <a class=\"fancybox-thumbs\" data-fancybox-group=\"thumb\" href=\"image/mars/South Polar Cap.jpg\">\n      <div class=\"thmb\">\n       <img alt=\"\" class=\"thumbimg\" src=\"image/mars/South Polar Cap.jpg\"/>\n       <p class=\"thumbcontent\">\n        January 1, 2020\n        <br/>\n        South Polar Cap\n       </p>\n      </div>\n     </a>\n     <a class=\"fancybox-thumbs\" data-fancybox-group=\"thumb\" href=\"image/mars/Daedalia Planum.jpg\">\n      <div class=\"thmb\">\n       <img alt=\"\" class=\"thumbimg\" src=\"image/mars/Daedalia Planum.jpg\"/>\n       <p class=\"thumbcontent\">\n        January 1, 2020\n        <br/>\n        Daedalia Planum\n       </p>\n      </div>\n     </a>\n    </div>\n   </div>\n   <!-- first div ends -->\n   <!-- second div starts -->\n   <div class=\"col-md-12 grid-margin\" id=\"column\">\n    <ul class=\"post-list\">\n     <li class=\"post-heading\">\n     </li>\n    </ul>\n   </div>\n   <!-- second div starts -->\n  </div>\n  <div class=\"first imgcontainer mt-3\">\n   <div class=\"col-md-12\">\n    <div class=\"row\">\n     <div class=\"col-md-3\">\n      <img id=\"pic\" src=\"\"/>\n     </div>\n    </div>\n   </div>\n  </div>\n  <!-- end -->\n  <div class=\"module_gallery container\">\n   <div class=\"col-md-12\">\n    <div class=\"row\">\n     <div class=\"col-md-6\">\n      <div class=\"card\">\n       <img alt=\"Card image cap\" class=\"card-img-top\" src=\"https://www.jpl.nasa.gov/assets/images/content/tmp/images/jpl_photojournal(3x1).jpg\"/>\n       <div class=\"card-body\">\n        <h5 class=\"card-title\">\n         JPL Photojournal\n        </h5>\n        <p class=\"card-text\">\n         Access to the full library of publicly released images from various Solar System exploration programs\n        </p>\n       </div>\n      </div>\n     </div>\n     <div class=\"col-md-6\">\n      <div class=\"card\">\n       <img alt=\"Card image cap\" class=\"card-img-top\" src=\"https://www.jpl.nasa.gov/assets/images/content/tmp/images/nasa_images(3x1).jpg\"/>\n       <div class=\"card-body\">\n        <h5 class=\"card-title\">\n         Great images in NASA\n        </h5>\n        <p class=\"card-text\">\n         A selection of the best-known images from a half-century of exploration and discovery\n        </p>\n       </div>\n      </div>\n     </div>\n    </div>\n   </div>\n  </div>\n  <div class=\"multi_teaser\">\n   <div class=\"container\">\n    <h1>\n     You Might Also Like\n    </h1>\n    <div class=\"col-md-12 mt-5\">\n     <div class=\"row\">\n      <div class=\"col-md-4\">\n       <div class=\"card\">\n        <img alt=\"Card image cap\" class=\"card-img-top\" src=\"https://imagecache.jpl.nasa.gov/images/640x350/C1-PIA24304---CatScanMars-16-640x350.gif\"/>\n        <div class=\"card-body\">\n         <p class=\"card-text\">\n          Access to the full library of publicly released images from various Solar System exploration programs\n         </p>\n        </div>\n       </div>\n      </div>\n      <div class=\"col-md-4\">\n       <div class=\"card\">\n        <img alt=\"Card image cap\" class=\"card-img-top\" src=\"https://imagecache.jpl.nasa.gov/images/640x350/PIA23491-16-640x350.jpg\"/>\n        <div class=\"card-body\">\n         <p class=\"card-text\">\n          Access to the full library of publicly released images from various Solar System exploration programs\n         </p>\n        </div>\n       </div>\n      </div>\n      <div class=\"col-md-4\">\n       <div class=\"card\">\n        <img alt=\"Card image cap\" class=\"card-img-top\" src=\"https://imagecache.jpl.nasa.gov/images/640x350/C1-PIA23180-16-640x350.gif\"/>\n        <div class=\"card-body\">\n         <p class=\"card-text\">\n          Access to the full library of publicly released images from various Solar System exploration programs\n         </p>\n        </div>\n       </div>\n      </div>\n     </div>\n    </div>\n   </div>\n  </div>\n  <div class=\"footer\">\n   <div class=\"container\">\n    <div class=\"col-md-12\">\n     <div class=\"row\">\n      <div class=\"col-md-3\">\n       <h4>\n        About JPL\n       </h4>\n       <ul>\n        <li>\n         About JPL\n        </li>\n        <li>\n         JPL Vision\n        </li>\n        <li>\n         Executive Council\n        </li>\n        <li>\n         History\n        </li>\n       </ul>\n      </div>\n      <div class=\"col-md-3\">\n       <h4>\n        Education\n       </h4>\n       <ul>\n        <li>\n         Intern\n        </li>\n        <li>\n         Learn\n        </li>\n        <li>\n         Teach\n        </li>\n        <li>\n         News\n        </li>\n       </ul>\n      </div>\n      <div class=\"col-md-3\">\n       <h4>\n        Our Sites\n       </h4>\n       <ul>\n        <li>\n         Asteroid Watch\n        </li>\n        <li>\n         Basics of Spaceflight\n        </li>\n        <li>\n         Cassini - Mission to Saturn\n        </li>\n        <li>\n         Climate Kids\n        </li>\n       </ul>\n      </div>\n      <div class=\"col-md-3\">\n       <h4>\n        Galleries\n       </h4>\n       <ul>\n        <li>\n         JPL Space Images\n        </li>\n        <li>\n         Videos\n        </li>\n        <li>\n         Infographics\n        </li>\n        <li>\n         Photojournal\n        </li>\n       </ul>\n      </div>\n     </div>\n    </div>\n   </div>\n  </div>\n  <!--<div class=\"showFullimage\">\n\t<button class=\"btn btn-outline-light hideimage\" onclick=hideimage()> Close</button>\n\t<img class=\"fullimage fade-in\" src=\"\">\n</div>-->\n  <!-- <script src=\"js/jquery.easeScroll.js\"></script>  -->\n  <script src=\"js/jquery-3.5.1.min.js\">\n  </script>\n  <!-- <script src=\"js/jquery-3.2.1.slim.min.js\"></script> -->\n  <script src=\"js/demo.js\">\n  </script>\n  <!-- <script src=\"js/app.js\"></script> -->\n  <script src=\"https://cdnjs.cloudflare.com/ajax/libs/popper.js/1.12.9/umd/popper.min.js\">\n  </script>\n  <script src=\"https://maxcdn.bootstrapcdn.com/bootstrap/4.0.0/js/bootstrap.min.js\">\n  </script>\n  <script src=\"js/fancyBox/jquery.fancybox.pack.js?v=2.1.5\" type=\"text/javascript\">\n  </script>\n  <link href=\"js/fancyBox/jquery.fancybox.css?v=2.1.5\" media=\"screen\" rel=\"stylesheet\" type=\"text/css\"/>\n  <link href=\"js/fancyBox/helpers/jquery.fancybox-thumbs.css?v=1.0.7\" rel=\"stylesheet\" type=\"text/css\"/>\n  <script src=\"js/fancyBox/helpers/jquery.fancybox-thumbs.js?v=1.0.7\" type=\"text/javascript\">\n  </script>\n </body>\n</html>\n"
     ]
    }
   ],
   "source": [
    "#Parse HTML object with BeautifulSoup\n",
    "soup = bs(html, 'html.parser')\n",
    "print(soup.prettify())\n"
   ]
  },
  {
   "cell_type": "code",
   "execution_count": 81,
   "metadata": {},
   "outputs": [],
   "source": [
    "# Scrape page into Soup\n",
    "html = browser.html\n",
    "image_soup = bs(html, \"html.parser\")\n"
   ]
  },
  {
   "cell_type": "code",
   "execution_count": 65,
   "metadata": {},
   "outputs": [
    {
     "output_type": "stream",
     "name": "stdout",
     "text": [
      "https://spaceimages-mars.com/image/mars/Proctor Crater Dunes 7.jpg\n"
     ]
    }
   ],
   "source": [
    "relative_image_path = image_soup.find_all('img')[3][\"src\"]\n",
    "featured_image_url = image_url + relative_image_path\n",
    "\n",
    "print(featured_image_url)\n"
   ]
  },
  {
   "cell_type": "code",
   "execution_count": 74,
   "metadata": {},
   "outputs": [],
   "source": [
    "#URL of JPL images scraped\n",
    "url = 'https://mars.nasa.gov/news/'\n",
    "browser.visit(url)\n",
    "html = browser.html\n"
   ]
  },
  {
   "cell_type": "code",
   "execution_count": 82,
   "metadata": {},
   "outputs": [
    {
     "output_type": "stream",
     "name": "stdout",
     "text": [
      "https://spaceimages-mars.com//system/missions/list_view_images/23_PIA23764-RoverNamePlateonMars-320x240.jpg\n"
     ]
    }
   ],
   "source": [
    "relative_image_path = image_soup.find_all('img')[3][\"src\"]\n",
    "featured_image_url = image_url + relative_image_path\n",
    "\n",
    "print(featured_image_url)\n"
   ]
  },
  {
   "cell_type": "code",
   "execution_count": 87,
   "metadata": {},
   "outputs": [
    {
     "output_type": "execute_result",
     "data": {
      "text/plain": [
       "[                         0                1                2\n",
       " 0  Mars - Earth Comparison             Mars            Earth\n",
       " 1                Diameter:         6,779 km        12,742 km\n",
       " 2                    Mass:  6.39 × 10^23 kg  5.97 × 10^24 kg\n",
       " 3                   Moons:                2                1\n",
       " 4       Distance from Sun:   227,943,824 km   149,598,262 km\n",
       " 5          Length of Year:   687 Earth days      365.24 days\n",
       " 6             Temperature:     -87 to -5 °C      -88 to 58°C,\n",
       "                       0                              1\n",
       " 0  Equatorial Diameter:                       6,792 km\n",
       " 1       Polar Diameter:                       6,752 km\n",
       " 2                 Mass:  6.39 × 10^23 kg (0.11 Earths)\n",
       " 3                Moons:          2 ( Phobos & Deimos )\n",
       " 4       Orbit Distance:       227,943,824 km (1.38 AU)\n",
       " 5         Orbit Period:           687 days (1.9 years)\n",
       " 6  Surface Temperature:                   -87 to -5 °C\n",
       " 7         First Record:              2nd millennium BC\n",
       " 8          Recorded By:           Egyptian astronomers]"
      ]
     },
     "metadata": {},
     "execution_count": 87
    }
   ],
   "source": [
    "url = 'https://galaxyfacts-mars.com/'\n",
    "#Scrape table data from Mars webpage\n",
    "tables = pd.read_html(url)\n",
    "tables\n"
   ]
  },
  {
   "cell_type": "code",
   "execution_count": 89,
   "metadata": {},
   "outputs": [
    {
     "output_type": "execute_result",
     "data": {
      "text/plain": [
       "                                              Value\n",
       "Description                                        \n",
       "Equatorial Diameter:                       6,792 km\n",
       "Polar Diameter:                            6,752 km\n",
       "Mass:                 6.39 × 10^23 kg (0.11 Earths)\n",
       "Moons:                        2 ( Phobos & Deimos )\n",
       "Orbit Distance:            227,943,824 km (1.38 AU)\n",
       "Orbit Period:                  687 days (1.9 years)\n",
       "Surface Temperature:                   -87 to -5 °C\n",
       "First Record:                     2nd millennium BC\n",
       "Recorded By:                   Egyptian astronomers"
      ],
      "text/html": "<div>\n<style scoped>\n    .dataframe tbody tr th:only-of-type {\n        vertical-align: middle;\n    }\n\n    .dataframe tbody tr th {\n        vertical-align: top;\n    }\n\n    .dataframe thead th {\n        text-align: right;\n    }\n</style>\n<table border=\"1\" class=\"dataframe\">\n  <thead>\n    <tr style=\"text-align: right;\">\n      <th></th>\n      <th>Value</th>\n    </tr>\n    <tr>\n      <th>Description</th>\n      <th></th>\n    </tr>\n  </thead>\n  <tbody>\n    <tr>\n      <th>Equatorial Diameter:</th>\n      <td>6,792 km</td>\n    </tr>\n    <tr>\n      <th>Polar Diameter:</th>\n      <td>6,752 km</td>\n    </tr>\n    <tr>\n      <th>Mass:</th>\n      <td>6.39 × 10^23 kg (0.11 Earths)</td>\n    </tr>\n    <tr>\n      <th>Moons:</th>\n      <td>2 ( Phobos &amp; Deimos )</td>\n    </tr>\n    <tr>\n      <th>Orbit Distance:</th>\n      <td>227,943,824 km (1.38 AU)</td>\n    </tr>\n    <tr>\n      <th>Orbit Period:</th>\n      <td>687 days (1.9 years)</td>\n    </tr>\n    <tr>\n      <th>Surface Temperature:</th>\n      <td>-87 to -5 °C</td>\n    </tr>\n    <tr>\n      <th>First Record:</th>\n      <td>2nd millennium BC</td>\n    </tr>\n    <tr>\n      <th>Recorded By:</th>\n      <td>Egyptian astronomers</td>\n    </tr>\n  </tbody>\n</table>\n</div>"
     },
     "metadata": {},
     "execution_count": 89
    }
   ],
   "source": [
    "#Index the first dataframe object\n",
    "df = tables[1]\n",
    "\n",
    "#Set column names\n",
    "df.columns = ['Description','Value']\n",
    "\n",
    "#Set Description column as the index\n",
    "df.set_index('Description', inplace=True)\n",
    "df\n"
   ]
  },
  {
   "cell_type": "code",
   "execution_count": 90,
   "metadata": {},
   "outputs": [
    {
     "output_type": "stream",
     "name": "stdout",
     "text": [
      "<table border=\"1\" class=\"dataframe\">\n  <thead>\n    <tr style=\"text-align: right;\">\n      <th></th>\n      <th>Value</th>\n    </tr>\n    <tr>\n      <th>Description</th>\n      <th></th>\n    </tr>\n  </thead>\n  <tbody>\n    <tr>\n      <th>Equatorial Diameter:</th>\n      <td>6,792 km</td>\n    </tr>\n    <tr>\n      <th>Polar Diameter:</th>\n      <td>6,752 km</td>\n    </tr>\n    <tr>\n      <th>Mass:</th>\n      <td>6.39 × 10^23 kg (0.11 Earths)</td>\n    </tr>\n    <tr>\n      <th>Moons:</th>\n      <td>2 ( Phobos &amp; Deimos )</td>\n    </tr>\n    <tr>\n      <th>Orbit Distance:</th>\n      <td>227,943,824 km (1.38 AU)</td>\n    </tr>\n    <tr>\n      <th>Orbit Period:</th>\n      <td>687 days (1.9 years)</td>\n    </tr>\n    <tr>\n      <th>Surface Temperature:</th>\n      <td>-87 to -5 °C</td>\n    </tr>\n    <tr>\n      <th>First Record:</th>\n      <td>2nd millennium BC</td>\n    </tr>\n    <tr>\n      <th>Recorded By:</th>\n      <td>Egyptian astronomers</td>\n    </tr>\n  </tbody>\n</table>\n"
     ]
    }
   ],
   "source": [
    "#Convert table into HTML table\n",
    "html_table = df.to_html()\n",
    "print(html_table)\n"
   ]
  },
  {
   "cell_type": "code",
   "execution_count": 91,
   "metadata": {},
   "outputs": [
    {
     "output_type": "execute_result",
     "data": {
      "text/plain": [
       "'<table border=\"1\" class=\"dataframe\">  <thead>    <tr style=\"text-align: right;\">      <th></th>      <th>Value</th>    </tr>    <tr>      <th>Description</th>      <th></th>    </tr>  </thead>  <tbody>    <tr>      <th>Equatorial Diameter:</th>      <td>6,792 km</td>    </tr>    <tr>      <th>Polar Diameter:</th>      <td>6,752 km</td>    </tr>    <tr>      <th>Mass:</th>      <td>6.39 × 10^23 kg (0.11 Earths)</td>    </tr>    <tr>      <th>Moons:</th>      <td>2 ( Phobos &amp; Deimos )</td>    </tr>    <tr>      <th>Orbit Distance:</th>      <td>227,943,824 km (1.38 AU)</td>    </tr>    <tr>      <th>Orbit Period:</th>      <td>687 days (1.9 years)</td>    </tr>    <tr>      <th>Surface Temperature:</th>      <td>-87 to -5 °C</td>    </tr>    <tr>      <th>First Record:</th>      <td>2nd millennium BC</td>    </tr>    <tr>      <th>Recorded By:</th>      <td>Egyptian astronomers</td>    </tr>  </tbody></table>'"
      ]
     },
     "metadata": {},
     "execution_count": 91
    }
   ],
   "source": [
    "#Remove unwanted new lines\n",
    "html_table.replace('\\n', '')\n"
   ]
  },
  {
   "cell_type": "code",
   "execution_count": 96,
   "metadata": {},
   "outputs": [
    {
     "output_type": "stream",
     "name": "stderr",
     "text": [
      "\n",
      "\n",
      "====== WebDriver manager ======\n",
      "Current google-chrome version is 91.0.4472\n",
      "Get LATEST driver version for 91.0.4472\n",
      "Driver [C:\\Users\\pptak\\.wdm\\drivers\\chromedriver\\win32\\91.0.4472.101\\chromedriver.exe] found in cache\n"
     ]
    }
   ],
   "source": [
    "#Cerberus Hemisphere Enhanced\n",
    "url = 'https://marshemispheres.com/cerberus.html'\n",
    "executable_path = {'executable_path': ChromeDriverManager().install()}\n",
    "browser = Browser('chrome', **executable_path, headless=False)\n",
    "browser.visit(url)\n",
    "html=browser.html\n",
    "soup = bs(html, 'html.parser')\n",
    "cerberus_url = (soup.find_all('div', class_='downloads')[0].li.a.get('href'))"
   ]
  },
  {
   "cell_type": "code",
   "execution_count": 97,
   "metadata": {},
   "outputs": [
    {
     "output_type": "stream",
     "name": "stdout",
     "text": [
      "images/full.jpg\n"
     ]
    }
   ],
   "source": [
    "browser.quit()\n",
    "print(cerberus_url)"
   ]
  },
  {
   "cell_type": "code",
   "execution_count": null,
   "metadata": {},
   "outputs": [],
   "source": []
  }
 ]
}