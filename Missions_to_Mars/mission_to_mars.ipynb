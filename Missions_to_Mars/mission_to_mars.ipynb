{
 "metadata": {
  "language_info": {
   "codemirror_mode": {
    "name": "ipython",
    "version": 3
   },
   "file_extension": ".py",
   "mimetype": "text/x-python",
   "name": "python",
   "nbconvert_exporter": "python",
   "pygments_lexer": "ipython3",
   "version": "3.8.5"
  },
  "orig_nbformat": 2,
  "kernelspec": {
   "name": "python3",
   "display_name": "Python 3.8.5 64-bit ('base': conda)"
  },
  "interpreter": {
   "hash": "bc23397080910adbc700e3b271aba193f4b39fcdf4a8b7bcb8c18cc9eba252fc"
  }
 },
 "nbformat": 4,
 "nbformat_minor": 2,
 "cells": [
  {
   "cell_type": "code",
   "execution_count": 25,
   "metadata": {},
   "outputs": [],
   "source": [
    "#import the dependencies\n",
    "import os\n",
    "import requests\n",
    "from bs4 import BeautifulSoup as bs\n",
    "import pandas as pd\n",
    "from splinter import Browser\n",
    "import time\n",
    "from webdriver_manager.chrome import ChromeDriverManager\n"
   ]
  },
  {
   "cell_type": "code",
   "execution_count": 26,
   "metadata": {},
   "outputs": [
    {
     "output_type": "stream",
     "name": "stderr",
     "text": [
      "\n",
      "\n",
      "====== WebDriver manager ======\n",
      "Current google-chrome version is 91.0.4472\n",
      "Get LATEST driver version for 91.0.4472\n",
      "Driver [C:\\Users\\pptak\\.wdm\\drivers\\chromedriver\\win32\\91.0.4472.101\\chromedriver.exe] found in cache\n"
     ]
    }
   ],
   "source": [
    "executable_path = {'executable_path': ChromeDriverManager().install()}\n",
    "browser = Browser('chrome', **executable_path, headless=False)"
   ]
  },
  {
   "cell_type": "code",
   "execution_count": 27,
   "metadata": {
    "tags": []
   },
   "outputs": [],
   "source": [
    "#Visit Nasa News url  using splinter module\n",
    "\n",
    "url = 'https://redplanetscience.com'\n",
    "browser.visit(url)\n",
    "time.sleep(1)"
   ]
  },
  {
   "cell_type": "code",
   "execution_count": 28,
   "metadata": {},
   "outputs": [],
   "source": [
    "#Open webpage using splinter\n",
    "image_url = 'https://spaceimages-mars.com/'\n",
    "browser.visit(url)\n"
   ]
  },
  {
   "cell_type": "code",
   "execution_count": 29,
   "metadata": {},
   "outputs": [],
   "source": [
    "#HTML object\n",
    "html = browser.html\n",
    "\n"
   ]
  },
  {
   "cell_type": "code",
   "execution_count": 30,
   "metadata": {},
   "outputs": [
    {
     "output_type": "execute_result",
     "data": {
      "text/plain": [
       "'News - Mars Exploration Program'"
      ]
     },
     "metadata": {},
     "execution_count": 30
    }
   ],
   "source": [
    "#Create a BeautifulSoup object\n",
    "soup = bs(html, 'html.parser')\n",
    "soup.title.text"
   ]
  },
  {
   "cell_type": "code",
   "execution_count": 31,
   "metadata": {},
   "outputs": [
    {
     "output_type": "stream",
     "name": "stdout",
     "text": [
      "June 14, 2021\nA Year of Surprising Science From NASA's InSight Mars Mission\nA batch of new papers summarizes the lander's findings above and below the surface of the Red Planet.\n"
     ]
    }
   ],
   "source": [
    "# Retrieve the latest news title and paragraph\n",
    "article = soup.find(\"div\", class_=\"list_text\")\n",
    "news_p = article.find(\"div\", class_=\"article_teaser_body\").text\n",
    "news_title = article.find(\"div\", class_=\"content_title\").text\n",
    "news_date = article.find(\"div\", class_=\"list_date\").text\n",
    "print(news_date)\n",
    "print(news_title)\n",
    "print(news_p)\n"
   ]
  },
  {
   "cell_type": "code",
   "execution_count": 32,
   "metadata": {
    "tags": [
     "outputPrepend"
    ]
   },
   "outputs": [
    {
     "output_type": "stream",
     "name": "stdout",
     "text": [
      "x240.jpg\"/>\n         </div>\n        </div>\n        <div class=\"col-md-8\">\n         <div class=\"list_text\">\n          <div class=\"list_date\">\n           June 14, 2021\n          </div>\n          <div class=\"content_title\">\n           A Year of Surprising Science From NASA's InSight Mars Mission\n          </div>\n          <div class=\"article_teaser_body\">\n           A batch of new papers summarizes the lander's findings above and below the surface of the Red Planet.\n          </div>\n         </div>\n        </div>\n       </div>\n      </div>\n      <div class=\"col-md-12\">\n       <hr/>\n       <div class=\"row\">\n        <div class=\"col-md-4\">\n         <div class=\"list_image\">\n          <img src=\"https://mars.nasa.gov/system/news_items/list_view_images/8801_20201118_mars2020-320x240.jpg\"/>\n         </div>\n        </div>\n        <div class=\"col-md-8\">\n         <div class=\"list_text\">\n          <div class=\"list_date\">\n           June 13, 2021\n          </div>\n          <div class=\"content_title\">\n           Hear Audio From NASA's Perseverance As It Travels Through Deep Space\n          </div>\n          <div class=\"article_teaser_body\">\n           The first to be rigged with microphones, the agency's latest Mars rover picked up the subtle sounds of its own inner workings during interplanetary flight.\n          </div>\n         </div>\n        </div>\n       </div>\n      </div>\n      <div class=\"col-md-12\">\n       <hr/>\n       <div class=\"row\">\n        <div class=\"col-md-4\">\n         <div class=\"list_image\">\n          <img src=\"https://mars.nasa.gov/system/news_items/list_view_images/8797_maven_illo_v7-320.jpg\"/>\n         </div>\n        </div>\n        <div class=\"col-md-8\">\n         <div class=\"list_text\">\n          <div class=\"list_date\">\n           June 13, 2021\n          </div>\n          <div class=\"content_title\">\n           Heat and Dust Help Launch Martian Water Into Space, Scientists Find\n          </div>\n          <div class=\"article_teaser_body\">\n           Scientists using an instrument aboard NASA’s Mars Atmosphere and Volatile EvolutioN, or MAVEN, spacecraft have discovered that water vapor near the surface of the Red Planet is lofted higher into the atmosphere than anyone expected was possible.\n          </div>\n         </div>\n        </div>\n       </div>\n      </div>\n      <div class=\"col-md-12\">\n       <hr/>\n       <div class=\"row\">\n        <div class=\"col-md-4\">\n         <div class=\"list_image\">\n          <img src=\"https://mars.nasa.gov/system/news_items/list_view_images/8689_PIA23897-320x240.jpg\"/>\n         </div>\n        </div>\n        <div class=\"col-md-8\">\n         <div class=\"list_text\">\n          <div class=\"list_date\">\n           June 10, 2021\n          </div>\n          <div class=\"content_title\">\n           NASA's Mars Rover Drivers Need Your Help\n          </div>\n          <div class=\"article_teaser_body\">\n           Using an online tool to label Martian terrain types, you can train an artificial intelligence algorithm that could improve the way engineers guide the Curiosity rover.\n          </div>\n         </div>\n        </div>\n       </div>\n      </div>\n      <div class=\"col-md-12\">\n       <hr/>\n       <div class=\"row\">\n        <div class=\"col-md-4\">\n         <div class=\"list_image\">\n          <img src=\"https://mars.nasa.gov/system/news_items/list_view_images/8749_PIA23964-320.jpg\"/>\n         </div>\n        </div>\n        <div class=\"col-md-8\">\n         <div class=\"list_text\">\n          <div class=\"list_date\">\n           June 10, 2021\n          </div>\n          <div class=\"content_title\">\n           NASA Readies Perseverance Mars Rover's Earthly Twin\n          </div>\n          <div class=\"article_teaser_body\">\n           Did you know NASA's next Mars rover has a nearly identical sibling on Earth for testing? Even better, it's about to roll for the first time through a replica Martian landscape.\n          </div>\n         </div>\n        </div>\n       </div>\n      </div>\n      <div class=\"col-md-12\">\n       <hr/>\n       <div class=\"row\">\n        <div class=\"col-md-4\">\n         <div class=\"list_image\">\n          <img src=\"https://mars.nasa.gov/system/news_items/list_view_images/8663_PIA23316-annotated-16-320x240.jpg\"/>\n         </div>\n        </div>\n        <div class=\"col-md-8\">\n         <div class=\"list_text\">\n          <div class=\"list_date\">\n           June 9, 2021\n          </div>\n          <div class=\"content_title\">\n           NASA's Perseverance Rover Will Look at Mars Through These 'Eyes'\n          </div>\n          <div class=\"article_teaser_body\">\n           A pair of zoomable cameras will help scientists and rover drivers with high-resolution color images.\n          </div>\n         </div>\n        </div>\n       </div>\n      </div>\n      <div class=\"col-md-12\">\n       <hr/>\n       <div class=\"row\">\n        <div class=\"col-md-4\">\n         <div class=\"list_image\">\n          <img src=\"https://mars.nasa.gov/system/news_items/list_view_images/8695_24732_PIA23499-226.jpg\"/>\n         </div>\n        </div>\n        <div class=\"col-md-8\">\n         <div class=\"list_text\">\n          <div class=\"list_date\">\n           June 7, 2021\n          </div>\n          <div class=\"content_title\">\n           The Launch Is Approaching for NASA's Next Mars Rover, Perseverance\n          </div>\n          <div class=\"article_teaser_body\">\n           The Red Planet's surface has been visited by eight NASA spacecraft. The ninth will be the first that includes a roundtrip ticket in its flight plan.\n          </div>\n         </div>\n        </div>\n       </div>\n      </div>\n      <div class=\"col-md-12\">\n       <hr/>\n       <div class=\"row\">\n        <div class=\"col-md-4\">\n         <div class=\"list_image\">\n          <img src=\"https://mars.nasa.gov/system/news_items/list_view_images/8805_1-MOXIE-PIA24176-320.gif\"/>\n         </div>\n        </div>\n        <div class=\"col-md-8\">\n         <div class=\"list_text\">\n          <div class=\"list_date\">\n           June 5, 2021\n          </div>\n          <div class=\"content_title\">\n           MOXIE Could Help Future Rockets Launch Off Mars\n          </div>\n          <div class=\"article_teaser_body\">\n           NASA's Perseverance rover carries a device to convert Martian air into oxygen that, if produced on a larger scale, could be used not just for breathing, but also for fuel.\n          </div>\n         </div>\n        </div>\n       </div>\n      </div>\n      <div class=\"col-md-12\">\n       <hr/>\n       <div class=\"row\">\n        <div class=\"col-md-4\">\n         <div class=\"list_image\">\n          <img src=\"https://mars.nasa.gov/system/news_items/list_view_images/8511_PIA23279-226.jpg\"/>\n         </div>\n        </div>\n        <div class=\"col-md-8\">\n         <div class=\"list_text\">\n          <div class=\"list_date\">\n           May 29, 2021\n          </div>\n          <div class=\"content_title\">\n           Deadline Closing for Names to Fly on NASA's Next Mars Rover\n          </div>\n          <div class=\"article_teaser_body\">\n           You have until Sept. 30 to send your names to Mars aboard the Mars 2020 rover.\n          </div>\n         </div>\n        </div>\n       </div>\n      </div>\n      <div class=\"col-md-12\">\n       <hr/>\n       <div class=\"row\">\n        <div class=\"col-md-4\">\n         <div class=\"list_image\">\n          <img src=\"https://mars.nasa.gov/system/news_items/list_view_images/8687_PIA23893-Odyssey-Phobos-320.jpg\"/>\n         </div>\n        </div>\n        <div class=\"col-md-8\">\n         <div class=\"list_text\">\n          <div class=\"list_date\">\n           May 27, 2021\n          </div>\n          <div class=\"content_title\">\n           Three New Views of Mars' Moon Phobos\n          </div>\n          <div class=\"article_teaser_body\">\n           Taken with the infrared camera aboard NASA's Odyssey orbiter, they reveal temperature variations on the small moon as it drifts into and out of Mars’ shadow.\n          </div>\n         </div>\n        </div>\n       </div>\n      </div>\n      <div class=\"col-md-12\">\n       <hr/>\n       <div class=\"row\">\n        <div class=\"col-md-4\">\n         <div class=\"list_image\">\n          <img src=\"https://mars.nasa.gov/system/news_items/list_view_images/8575_PIA23519-SAF-unannot-320x240.jpg\"/>\n         </div>\n        </div>\n        <div class=\"col-md-8\">\n         <div class=\"list_text\">\n          <div class=\"list_date\">\n           May 23, 2021\n          </div>\n          <div class=\"content_title\">\n           Space History Is Made in This NASA Robot Factory\n          </div>\n          <div class=\"article_teaser_body\">\n           From rockets to rovers, JPL's Spacecraft Assembly Facility has been at the center of robotic spaceflight. Here's a closer look at what makes it so special.\n          </div>\n         </div>\n        </div>\n       </div>\n      </div>\n      <div class=\"col-md-12\">\n       <hr/>\n       <div class=\"row\">\n        <div class=\"col-md-4\">\n         <div class=\"list_image\">\n          <img src=\"https://mars.nasa.gov/system/news_items/list_view_images/8762_PIA24097-320x240.jpg\"/>\n         </div>\n        </div>\n        <div class=\"col-md-8\">\n         <div class=\"list_text\">\n          <div class=\"list_date\">\n           May 23, 2021\n          </div>\n          <div class=\"content_title\">\n           NASA's New Mars Rover Is Ready for Space Lasers\n          </div>\n          <div class=\"article_teaser_body\">\n           Perseverance is one of a few Mars spacecraft carrying laser retroreflectors. The devices could provide new science and safer Mars landings in the future.\n          </div>\n         </div>\n        </div>\n       </div>\n      </div>\n      <div class=\"col-md-12\">\n       <hr/>\n       <div class=\"row\">\n        <div class=\"col-md-4\">\n         <div class=\"list_image\">\n          <img src=\"https://mars.nasa.gov/system/news_items/list_view_images/8567_PIA23517-320x240.jpg\"/>\n         </div>\n        </div>\n        <div class=\"col-md-8\">\n         <div class=\"list_text\">\n          <div class=\"list_date\">\n           May 20, 2021\n          </div>\n          <div class=\"content_title\">\n           Two Rovers to Roll on Mars Again: Curiosity and Mars 2020\n          </div>\n          <div class=\"article_teaser_body\">\n           They look like twins. But under the hood, the rover currently exploring the Red Planet and the one launching there this summer have distinct science tools and roles to play.\n          </div>\n         </div>\n        </div>\n       </div>\n      </div>\n      <div class=\"col-md-12\">\n       <hr/>\n       <div class=\"row\">\n        <div class=\"col-md-4\">\n         <div class=\"list_image\">\n          <img src=\"https://mars.nasa.gov/system/news_items/list_view_images/8776_PIA24098-320.gif\"/>\n         </div>\n        </div>\n        <div class=\"col-md-8\">\n         <div class=\"list_text\">\n          <div class=\"list_date\">\n           May 20, 2021\n          </div>\n          <div class=\"content_title\">\n           NASA InSight's 'Mole' Is Out of Sight\n          </div>\n          <div class=\"article_teaser_body\">\n           Now that the heat probe is just below the Martian surface, InSight's arm will scoop some additional soil on top to help it keep digging so it can take Mars' temperature.\n          </div>\n         </div>\n        </div>\n       </div>\n      </div>\n      <div class=\"col-md-12\">\n       <hr/>\n       <div class=\"row\">\n        <div class=\"col-md-4\">\n         <div class=\"list_image\">\n          <img src=\"https://mars.nasa.gov/system/news_items/list_view_images/8622_1-PIA23764-RoverNamePlateonMars-320x240.jpg\"/>\n         </div>\n        </div>\n        <div class=\"col-md-8\">\n         <div class=\"list_text\">\n          <div class=\"list_date\">\n           May 13, 2021\n          </div>\n          <div class=\"content_title\">\n           Virginia Middle School Student Earns Honor of Naming NASA's Next Mars Rover\n          </div>\n          <div class=\"article_teaser_body\">\n           NASA chose a seventh-grader from Virginia as winner of the agency's \"Name the Rover\" essay contest. Alexander Mather's entry for \"Perseverance\" was voted tops among 28,000 entries.\n          </div>\n         </div>\n        </div>\n       </div>\n      </div>\n     </div>\n     <hr class=\"container\" style=\"margin: 25px auto;width: 83%;\"/>\n     <button class=\"btn disable\" id=\"more\" onclick=\"populateContent()\">\n      More\n     </button>\n    </section>\n    <section class=\"last_news\">\n     <div class=\"container\">\n      <div class=\"row\">\n       <div class=\"col-12\">\n        <h2>\n         You Might Also Like\n        </h2>\n       </div>\n       <!--  <a class=\" prev\" href=\"#carouselExampleIndicators2\" role=\"button\" data-slide=\"prev\">\n                  <i class=\"fas fa-angle-left\"></i>\n                  </a>\n                  <a class=\" next\" href=\"#carouselExampleIndicators2\" role=\"button\" data-slide=\"next\">\n                  <i class=\"fas fa-angle-right\"></i>\n                  </a> -->\n       <div class=\"col-12\">\n        <div class=\"carousel slide\" data-ride=\"carousel\" id=\"carouselExampleIndicators2\">\n         <div class=\"carousel-inner\">\n          <div class=\"carousel-item active\">\n           <div class=\"row\">\n            <div class=\"col-md-4 mb-3\">\n             <div class=\"card\">\n              <img alt=\"100%x280\" class=\"img-fluid\" src=\"https://mars.nasa.gov/system/news_items/main_images/8716_PIA23499-16.jpg\"/>\n              <div class=\"card-body\">\n               <p class=\"card-text\">\n                NASA to Broadcast Mars 2020 Perseverance Launch, Prelaunch Activities\n               </p>\n              </div>\n             </div>\n            </div>\n            <div class=\"col-md-4 mb-3\">\n             <div class=\"card\">\n              <img alt=\"100%x280\" class=\"img-fluid\" src=\"https://mars.nasa.gov/system/news_items/main_images/8716_PIA23499-16.jpg\"/>\n              <div class=\"card-body\">\n               <p class=\"card-text\">\n                The Launch Is Approaching for NASA's Next Mars Rover, Perseverance\n               </p>\n              </div>\n             </div>\n            </div>\n            <div class=\"col-md-4 mb-3\">\n             <div class=\"card\">\n              <img alt=\"100%x280\" class=\"img-fluid\" src=\"https://mars.nasa.gov/system/news_items/main_images/8692_PIA23920-web.jpg\"/>\n              <div class=\"card-body\">\n               <p class=\"card-text\">\n                NASA to Hold Mars 2020 Perseverance Rover Launch Briefing\n               </p>\n              </div>\n             </div>\n            </div>\n           </div>\n          </div>\n          <div class=\"carousel-item\">\n           <div class=\"row\">\n            <div class=\"col-md-4 mb-3\">\n             <div class=\"card\">\n              <img alt=\"100%x280\" class=\"img-fluid\" src=\"https://images.unsplash.com/photo-1532771098148-525cefe10c23?ixlib=rb-0.3.5&amp;q=80&amp;fm=jpg&amp;crop=entropy&amp;cs=tinysrgb&amp;w=1080&amp;fit=max&amp;ixid=eyJhcHBfaWQiOjMyMDc0fQ&amp;s=3f317c1f7a16116dec454fbc267dd8e4\"/>\n              <div class=\"card-body\">\n               <p class=\"card-text\">\n                With supporting text below as a natural lead-in to additional content.\n               </p>\n              </div>\n             </div>\n            </div>\n            <div class=\"col-md-4 mb-3\">\n             <div class=\"card\">\n              <img alt=\"100%x280\" class=\"img-fluid\" src=\"https://images.unsplash.com/photo-1532715088550-62f09305f765?ixlib=rb-0.3.5&amp;q=80&amp;fm=jpg&amp;crop=entropy&amp;cs=tinysrgb&amp;w=1080&amp;fit=max&amp;ixid=eyJhcHBfaWQiOjMyMDc0fQ&amp;s=ebadb044b374504ef8e81bdec4d0e840\"/>\n              <div class=\"card-body\">\n               <p class=\"card-text\">\n                With supporting text below as a natural lead-in to additional content.\n               </p>\n              </div>\n             </div>\n            </div>\n            <div class=\"col-md-4 mb-3\">\n             <div class=\"card\">\n              <img alt=\"100%x280\" class=\"img-fluid\" src=\"https://images.unsplash.com/photo-1506197603052-3cc9c3a201bd?ixlib=rb-0.3.5&amp;q=80&amp;fm=jpg&amp;crop=entropy&amp;cs=tinysrgb&amp;w=1080&amp;fit=max&amp;ixid=eyJhcHBfaWQiOjMyMDc0fQ&amp;s=0754ab085804ae8a3b562548e6b4aa2e\"/>\n              <div class=\"card-body\">\n               <p class=\"card-text\">\n                With supporting text below as a natural lead-in to additional content.\n               </p>\n              </div>\n             </div>\n            </div>\n           </div>\n          </div>\n          <div class=\"carousel-item\">\n           <div class=\"row\">\n            <div class=\"col-md-4 mb-3\">\n             <div class=\"card\">\n              <img alt=\"100%x280\" class=\"img-fluid\" src=\"https://images.unsplash.com/photo-1507525428034-b723cf961d3e?ixlib=rb-0.3.5&amp;q=80&amp;fm=jpg&amp;crop=entropy&amp;cs=tinysrgb&amp;w=1080&amp;fit=max&amp;ixid=eyJhcHBfaWQiOjMyMDc0fQ&amp;s=ee8417f0ea2a50d53a12665820b54e23\"/>\n              <div class=\"card-body\">\n               <p class=\"card-text\">\n                With supporting text below as a natural lead-in to additional content.\n               </p>\n              </div>\n             </div>\n            </div>\n            <div class=\"col-md-4 mb-3\">\n             <div class=\"card\">\n              <img alt=\"100%x280\" class=\"img-fluid\" src=\"https://images.unsplash.com/photo-1532777946373-b6783242f211?ixlib=rb-0.3.5&amp;q=80&amp;fm=jpg&amp;crop=entropy&amp;cs=tinysrgb&amp;w=1080&amp;fit=max&amp;ixid=eyJhcHBfaWQiOjMyMDc0fQ&amp;s=8ac55cf3a68785643998730839663129\"/>\n              <div class=\"card-body\">\n               <p class=\"card-text\">\n                With supporting text below as a natural lead-in to additional content.\n               </p>\n              </div>\n             </div>\n            </div>\n            <div class=\"col-md-4 mb-3\">\n             <div class=\"card\">\n              <img alt=\"100%x280\" class=\"img-fluid\" src=\"https://images.unsplash.com/photo-1532763303805-529d595877c5?ixlib=rb-0.3.5&amp;q=80&amp;fm=jpg&amp;crop=entropy&amp;cs=tinysrgb&amp;w=1080&amp;fit=max&amp;ixid=eyJhcHBfaWQiOjMyMDc0fQ&amp;s=5ee4fd5d19b40f93eadb21871757eda6\"/>\n              <div class=\"card-body\">\n               <p class=\"card-text\">\n                With supporting text below as a natural lead-in to additional content.\n               </p>\n              </div>\n             </div>\n            </div>\n           </div>\n          </div>\n         </div>\n        </div>\n       </div>\n      </div>\n     </div>\n    </section>\n    <section class=\"footer\">\n     <div class=\"container\">\n      <div class=\"col-md-12\">\n       <div class=\"row\">\n        <div class=\"col-md-3\">\n         <h5>\n          The Red Planet\n         </h5>\n         <ul>\n          <li>\n           Dashboard\n          </li>\n          <li>\n           Science Goals\n          </li>\n          <li>\n           The Planet\n          </li>\n         </ul>\n        </div>\n        <div class=\"col-md-3\">\n         <h5>\n          The Program\n         </h5>\n         <ul>\n          <li>\n           Mission Statement\n          </li>\n          <li>\n           About the Program\n          </li>\n          <li>\n           Organization Why Mars?\n          </li>\n         </ul>\n        </div>\n        <div class=\"col-md-3\">\n         <h5>\n          Multimedia\n         </h5>\n         <ul>\n          <li>\n           Images\n          </li>\n          <li>\n           Videos\n          </li>\n          <li>\n           More Resources\n          </li>\n         </ul>\n        </div>\n        <div class=\"col-md-3\">\n         <h5>\n          Missions\n         </h5>\n         <ul>\n          <li>\n           Past\n          </li>\n          <li>\n           Present\n          </li>\n          <li>\n           Future\n          </li>\n         </ul>\n        </div>\n       </div>\n      </div>\n     </div>\n    </section>\n    <script src=\"https://code.jquery.com/jquery-1.12.4.min.js\" type=\"text/javascript\">\n    </script>\n    <script src=\"https://cdn.jsdelivr.net/npm/@popperjs/core@2.5.4/dist/umd/popper.min.js\">\n    </script>\n    <script src=\"https://cdn.jsdelivr.net/npm/bootstrap@5.0.0-beta1/dist/js/bootstrap.min.js\">\n    </script>\n    <script src=\"js/app.js\">\n    </script>\n   </div>\n  </div>\n </body>\n</html>\n"
     ]
    }
   ],
   "source": [
    "#Parse HTML object with BeautifulSoup\n",
    "soup = bs(html, 'html.parser')\n",
    "print(soup.prettify())\n"
   ]
  },
  {
   "cell_type": "code",
   "execution_count": 33,
   "metadata": {},
   "outputs": [],
   "source": [
    "# Scrape page into Soup\n",
    "html = browser.html\n",
    "image_soup = bs(html, \"html.parser\")\n"
   ]
  },
  {
   "cell_type": "code",
   "execution_count": 34,
   "metadata": {},
   "outputs": [
    {
     "output_type": "stream",
     "name": "stdout",
     "text": [
      "https://spaceimages-mars.com/https://mars.nasa.gov/system/news_items/list_view_images/8797_maven_illo_v7-320.jpg\n"
     ]
    }
   ],
   "source": [
    "relative_image_path = image_soup.find_all('img')[3][\"src\"]\n",
    "featured_image_url = image_url + relative_image_path\n",
    "\n",
    "print(featured_image_url)\n"
   ]
  },
  {
   "cell_type": "code",
   "execution_count": 35,
   "metadata": {},
   "outputs": [],
   "source": [
    "#URL of JPL images scraped\n",
    "url = 'https://mars.nasa.gov/news/'\n",
    "browser.visit(url)\n",
    "html = browser.html\n"
   ]
  },
  {
   "cell_type": "code",
   "execution_count": 36,
   "metadata": {},
   "outputs": [
    {
     "output_type": "stream",
     "name": "stdout",
     "text": [
      "https://spaceimages-mars.com/https://mars.nasa.gov/system/news_items/list_view_images/8797_maven_illo_v7-320.jpg\n"
     ]
    }
   ],
   "source": [
    "relative_image_path = image_soup.find_all('img')[3][\"src\"]\n",
    "featured_image_url = image_url + relative_image_path\n",
    "\n",
    "print(featured_image_url)\n"
   ]
  },
  {
   "cell_type": "code",
   "execution_count": 37,
   "metadata": {},
   "outputs": [
    {
     "output_type": "execute_result",
     "data": {
      "text/plain": [
       "[                         0                1                2\n",
       " 0  Mars - Earth Comparison             Mars            Earth\n",
       " 1                Diameter:         6,779 km        12,742 km\n",
       " 2                    Mass:  6.39 × 10^23 kg  5.97 × 10^24 kg\n",
       " 3                   Moons:                2                1\n",
       " 4       Distance from Sun:   227,943,824 km   149,598,262 km\n",
       " 5          Length of Year:   687 Earth days      365.24 days\n",
       " 6             Temperature:     -87 to -5 °C      -88 to 58°C,\n",
       "                       0                              1\n",
       " 0  Equatorial Diameter:                       6,792 km\n",
       " 1       Polar Diameter:                       6,752 km\n",
       " 2                 Mass:  6.39 × 10^23 kg (0.11 Earths)\n",
       " 3                Moons:          2 ( Phobos & Deimos )\n",
       " 4       Orbit Distance:       227,943,824 km (1.38 AU)\n",
       " 5         Orbit Period:           687 days (1.9 years)\n",
       " 6  Surface Temperature:                   -87 to -5 °C\n",
       " 7         First Record:              2nd millennium BC\n",
       " 8          Recorded By:           Egyptian astronomers]"
      ]
     },
     "metadata": {},
     "execution_count": 37
    }
   ],
   "source": [
    "url = 'https://galaxyfacts-mars.com/'\n",
    "#Scrape table data from Mars webpage\n",
    "tables = pd.read_html(url)\n",
    "tables\n"
   ]
  },
  {
   "cell_type": "code",
   "execution_count": 38,
   "metadata": {},
   "outputs": [
    {
     "output_type": "execute_result",
     "data": {
      "text/plain": [
       "                                              Value\n",
       "Description                                        \n",
       "Equatorial Diameter:                       6,792 km\n",
       "Polar Diameter:                            6,752 km\n",
       "Mass:                 6.39 × 10^23 kg (0.11 Earths)\n",
       "Moons:                        2 ( Phobos & Deimos )\n",
       "Orbit Distance:            227,943,824 km (1.38 AU)\n",
       "Orbit Period:                  687 days (1.9 years)\n",
       "Surface Temperature:                   -87 to -5 °C\n",
       "First Record:                     2nd millennium BC\n",
       "Recorded By:                   Egyptian astronomers"
      ],
      "text/html": "<div>\n<style scoped>\n    .dataframe tbody tr th:only-of-type {\n        vertical-align: middle;\n    }\n\n    .dataframe tbody tr th {\n        vertical-align: top;\n    }\n\n    .dataframe thead th {\n        text-align: right;\n    }\n</style>\n<table border=\"1\" class=\"dataframe\">\n  <thead>\n    <tr style=\"text-align: right;\">\n      <th></th>\n      <th>Value</th>\n    </tr>\n    <tr>\n      <th>Description</th>\n      <th></th>\n    </tr>\n  </thead>\n  <tbody>\n    <tr>\n      <th>Equatorial Diameter:</th>\n      <td>6,792 km</td>\n    </tr>\n    <tr>\n      <th>Polar Diameter:</th>\n      <td>6,752 km</td>\n    </tr>\n    <tr>\n      <th>Mass:</th>\n      <td>6.39 × 10^23 kg (0.11 Earths)</td>\n    </tr>\n    <tr>\n      <th>Moons:</th>\n      <td>2 ( Phobos &amp; Deimos )</td>\n    </tr>\n    <tr>\n      <th>Orbit Distance:</th>\n      <td>227,943,824 km (1.38 AU)</td>\n    </tr>\n    <tr>\n      <th>Orbit Period:</th>\n      <td>687 days (1.9 years)</td>\n    </tr>\n    <tr>\n      <th>Surface Temperature:</th>\n      <td>-87 to -5 °C</td>\n    </tr>\n    <tr>\n      <th>First Record:</th>\n      <td>2nd millennium BC</td>\n    </tr>\n    <tr>\n      <th>Recorded By:</th>\n      <td>Egyptian astronomers</td>\n    </tr>\n  </tbody>\n</table>\n</div>"
     },
     "metadata": {},
     "execution_count": 38
    }
   ],
   "source": [
    "#Index the first dataframe object\n",
    "df = tables[1]\n",
    "\n",
    "#Set column names\n",
    "df.columns = ['Description','Value']\n",
    "\n",
    "#Set Description column as the index\n",
    "df.set_index('Description', inplace=True)\n",
    "df\n"
   ]
  },
  {
   "cell_type": "code",
   "execution_count": 39,
   "metadata": {},
   "outputs": [
    {
     "output_type": "stream",
     "name": "stdout",
     "text": [
      "<table border=\"1\" class=\"dataframe\">\n  <thead>\n    <tr style=\"text-align: right;\">\n      <th></th>\n      <th>Value</th>\n    </tr>\n    <tr>\n      <th>Description</th>\n      <th></th>\n    </tr>\n  </thead>\n  <tbody>\n    <tr>\n      <th>Equatorial Diameter:</th>\n      <td>6,792 km</td>\n    </tr>\n    <tr>\n      <th>Polar Diameter:</th>\n      <td>6,752 km</td>\n    </tr>\n    <tr>\n      <th>Mass:</th>\n      <td>6.39 × 10^23 kg (0.11 Earths)</td>\n    </tr>\n    <tr>\n      <th>Moons:</th>\n      <td>2 ( Phobos &amp; Deimos )</td>\n    </tr>\n    <tr>\n      <th>Orbit Distance:</th>\n      <td>227,943,824 km (1.38 AU)</td>\n    </tr>\n    <tr>\n      <th>Orbit Period:</th>\n      <td>687 days (1.9 years)</td>\n    </tr>\n    <tr>\n      <th>Surface Temperature:</th>\n      <td>-87 to -5 °C</td>\n    </tr>\n    <tr>\n      <th>First Record:</th>\n      <td>2nd millennium BC</td>\n    </tr>\n    <tr>\n      <th>Recorded By:</th>\n      <td>Egyptian astronomers</td>\n    </tr>\n  </tbody>\n</table>\n"
     ]
    }
   ],
   "source": [
    "#Convert table into HTML table\n",
    "html_table = df.to_html()\n",
    "print(html_table)\n"
   ]
  },
  {
   "cell_type": "code",
   "execution_count": 40,
   "metadata": {},
   "outputs": [
    {
     "output_type": "execute_result",
     "data": {
      "text/plain": [
       "'<table border=\"1\" class=\"dataframe\">  <thead>    <tr style=\"text-align: right;\">      <th></th>      <th>Value</th>    </tr>    <tr>      <th>Description</th>      <th></th>    </tr>  </thead>  <tbody>    <tr>      <th>Equatorial Diameter:</th>      <td>6,792 km</td>    </tr>    <tr>      <th>Polar Diameter:</th>      <td>6,752 km</td>    </tr>    <tr>      <th>Mass:</th>      <td>6.39 × 10^23 kg (0.11 Earths)</td>    </tr>    <tr>      <th>Moons:</th>      <td>2 ( Phobos &amp; Deimos )</td>    </tr>    <tr>      <th>Orbit Distance:</th>      <td>227,943,824 km (1.38 AU)</td>    </tr>    <tr>      <th>Orbit Period:</th>      <td>687 days (1.9 years)</td>    </tr>    <tr>      <th>Surface Temperature:</th>      <td>-87 to -5 °C</td>    </tr>    <tr>      <th>First Record:</th>      <td>2nd millennium BC</td>    </tr>    <tr>      <th>Recorded By:</th>      <td>Egyptian astronomers</td>    </tr>  </tbody></table>'"
      ]
     },
     "metadata": {},
     "execution_count": 40
    }
   ],
   "source": [
    "#Remove unwanted new lines\n",
    "html_table.replace('\\n', '')\n"
   ]
  },
  {
   "cell_type": "code",
   "execution_count": 41,
   "metadata": {},
   "outputs": [],
   "source": [
    "url = 'https://marshemispheres.com/'\n",
    "#Open webpage using splinter\n",
    "browser.visit(url)\n",
    "#HTML object\n",
    "html = browser.html\n",
    "#Parse HTML object with BeautifulSoup\n",
    "soup = bs(html, 'html.parser')\n",
    "#print(soup.prettify())\n",
    "#Create list for image urls\n",
    "hemisphere_image_urls = []\n",
    "#Extract base url from webpage url\n",
    "base_url= (url.split('/search'))[0]\n",
    "#Retrieve all items with hemisphere info\n",
    "hemispheres = soup.find_all('div', class_='description')\n",
    "for hemisphere in hemispheres:\n",
    "    #Create an empty dictionary\n",
    "    hemisphere_info = {}\n",
    "    #Retrieve hemisphere title\n",
    "    hem_title = hemisphere.find('h3').text\n",
    "    #Add only hemisphere title into dictionary by splitting text \n",
    "    hemisphere_info['title'] = hem_title.split(' Enhanced')[0]\n",
    "    #Retrieve route to detailed hemisphere webpage\n",
    "    hem_route = hemisphere.find('a', class_='itemLink product-item')['href']\n",
    "    #Concatenate base url with route\n",
    "    hemisphere_link = base_url + hem_route\n",
    "    #Open new url with splinter\n",
    "    browser.visit(hemisphere_link)\n",
    "    #HTML object\n",
    "    html = browser.html\n",
    "    #Parse HTML object with BeautifulSoup\n",
    "    soup = bs(html, 'html.parser')\n",
    "    #Retrieve route to full resolution image\n",
    "    image_url = soup.find('div', class_='downloads').find('ul').find('li').find('a')['href']\n",
    "    #Add image url into dictionary\n",
    "    hemisphere_info['img_url'] = image_url\n",
    "      #Append dictionary to list\n",
    "    hemisphere_image_urls.append(hemisphere_info)\n",
    "    "
   ]
  },
  {
   "cell_type": "code",
   "execution_count": 42,
   "metadata": {},
   "outputs": [
    {
     "output_type": "execute_result",
     "data": {
      "text/plain": [
       "[{'title': 'Cerberus Hemisphere', 'img_url': 'images/full.jpg'},\n",
       " {'title': 'Schiaparelli Hemisphere',\n",
       "  'img_url': 'images/schiaparelli_enhanced-full.jpg'},\n",
       " {'title': 'Syrtis Major Hemisphere',\n",
       "  'img_url': 'images/syrtis_major_enhanced-full.jpg'},\n",
       " {'title': 'Valles Marineris Hemisphere',\n",
       "  'img_url': 'images/valles_marineris_enhanced-full.jpg'}]"
      ]
     },
     "metadata": {},
     "execution_count": 42
    }
   ],
   "source": [
    "  hemisphere_image_urls"
   ]
  },
  {
   "cell_type": "code",
   "execution_count": null,
   "metadata": {},
   "outputs": [],
   "source": []
  }
 ]
}